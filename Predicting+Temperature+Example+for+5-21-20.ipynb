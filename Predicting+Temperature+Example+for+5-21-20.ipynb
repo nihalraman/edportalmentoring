{
 "cells": [
  {
   "cell_type": "code",
   "execution_count": 2,
   "metadata": {
    "collapsed": true
   },
   "outputs": [],
   "source": [
    "# First, we'll import the relevant libraries\n",
    "# Pandas for storing data\n",
    "import pandas as pd\n",
    "# MatPlotLib for graphing\n",
    "import matplotlib.pyplot as plt\n",
    "# and NumPy for some math operations, but you don't need to worry too much about what this does for now\n",
    "import numpy as np\n",
    "\n",
    "# getting the data\n",
    "data = pd.read_csv(\"Boston weather_clean.csv\")"
   ]
  },
  {
   "cell_type": "code",
   "execution_count": null,
   "metadata": {
    "collapsed": true
   },
   "outputs": [],
   "source": [
    "# extract the dew point values from the data\n",
    "??? = data[\"???\"]\n",
    "\n",
    "# extract the temperatures from the data\n"
   ]
  },
  {
   "cell_type": "code",
   "execution_count": null,
   "metadata": {
    "collapsed": true
   },
   "outputs": [],
   "source": [
    "# Plot dew point against temperature\n",
    "plt.scatter(???, ???)\n",
    "# need to write this line to get the plot to actually show\n",
    "plt.show()"
   ]
  },
  {
   "cell_type": "markdown",
   "metadata": {},
   "source": [
    "Do you observe any kind of a relationship? What are some ways that you could make the graph above clearer to others?"
   ]
  },
  {
   "cell_type": "code",
   "execution_count": null,
   "metadata": {
    "collapsed": true
   },
   "outputs": [],
   "source": [
    "# defining x, y\n",
    "x = np.linspace(-20, 80)\n",
    "\n",
    "slope = ???\n",
    "yint = ???\n",
    "\n",
    "y = np.multiply(x, slope) + yint\n",
    "\n",
    "# plot x against y"
   ]
  },
  {
   "cell_type": "code",
   "execution_count": null,
   "metadata": {
    "collapsed": true
   },
   "outputs": [],
   "source": [
    "# Challenge: can you plot the two graphs on top of one another? What sort of line seems to fit the data?"
   ]
  },
  {
   "cell_type": "code",
   "execution_count": null,
   "metadata": {
    "collapsed": true
   },
   "outputs": [],
   "source": [
    "# Actually trying out the predictions\n",
    "\n",
    "print(dewpoint[???]*slope + yint)\n",
    "print(temp[???])"
   ]
  },
  {
   "cell_type": "markdown",
   "metadata": {},
   "source": [
    "The big question: Are your predictions good? How can we improve them?"
   ]
  },
  {
   "cell_type": "code",
   "execution_count": null,
   "metadata": {
    "collapsed": true
   },
   "outputs": [],
   "source": []
  }
 ],
 "metadata": {
  "kernelspec": {
   "display_name": "Python 3",
   "language": "python",
   "name": "python3"
  },
  "language_info": {
   "codemirror_mode": {
    "name": "ipython",
    "version": 3
   },
   "file_extension": ".py",
   "mimetype": "text/x-python",
   "name": "python",
   "nbconvert_exporter": "python",
   "pygments_lexer": "ipython3",
   "version": "3.6.9"
  }
 },
 "nbformat": 4,
 "nbformat_minor": 2
}
